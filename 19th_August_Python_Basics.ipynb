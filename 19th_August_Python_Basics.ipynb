{
 "cells": [
  {
   "cell_type": "markdown",
   "id": "e875e27f-9b77-4df8-9312-f098ebb44edb",
   "metadata": {},
   "source": [
    "TOPIC: Python Basics Variable"
   ]
  },
  {
   "cell_type": "raw",
   "id": "5e9e8115-b3cc-4e9a-b6cb-1d2c8f9cec71",
   "metadata": {},
   "source": [
    "# 1. Declare two variables, `x` and `y`, and assign them integer values. Swap the\n",
    "# values of these variables without using any temporary variable.\n"
   ]
  },
  {
   "cell_type": "code",
   "execution_count": 1,
   "id": "bda7af4d-f6b5-4f1a-a6a8-6d7922b59b01",
   "metadata": {},
   "outputs": [
    {
     "name": "stdout",
     "output_type": "stream",
     "text": [
      "Original values :  5 6\n",
      "After Swapping values :  6 5\n"
     ]
    }
   ],
   "source": [
    "x,y=5,6\n",
    "print(\"Original values : \",x, y)\n",
    "x,y=y,x\n",
    "print(\"After Swapping values : \",x, y)"
   ]
  },
  {
   "cell_type": "raw",
   "id": "00eb415e-966c-465e-9129-b3573f04819a",
   "metadata": {},
   "source": [
    "# 2. Create a program that calculates the area of a rectangle. Take the length and\n",
    "# width as inputs from the user and store them in variables. Calculate and\n",
    "# display the area."
   ]
  },
  {
   "cell_type": "code",
   "execution_count": 2,
   "id": "b86a9c0c-34d8-4e71-a106-8c7530d598a1",
   "metadata": {},
   "outputs": [
    {
     "name": "stdin",
     "output_type": "stream",
     "text": [
      "Enter length of rect 5\n",
      "Enter width of rect 6\n"
     ]
    },
    {
     "name": "stdout",
     "output_type": "stream",
     "text": [
      "Area of rectagle is :  30\n"
     ]
    }
   ],
   "source": [
    "l =int(input(\"Enter length of rect\"))\n",
    "b =int(input(\"Enter width of rect\"))\n",
    "area_rect= l*b\n",
    "print(\"Area of rectagle is : \", area_rect)"
   ]
  },
  {
   "cell_type": "raw",
   "id": "a1f34ecf-5249-4f54-83b5-c3a25943637b",
   "metadata": {},
   "source": [
    "# 3. Write a Python program that converts temperatures from Celsius to\n",
    "# Fahrenheit. Take the temperature in Celsius as input, store it in a variable,\n",
    "# convert it to Fahrenheit, and display the result."
   ]
  },
  {
   "cell_type": "code",
   "execution_count": 3,
   "id": "8f896a0c-2f41-46ad-a728-c18a9b9a8762",
   "metadata": {},
   "outputs": [
    {
     "name": "stdin",
     "output_type": "stream",
     "text": [
      "Enter temp. in celcius 56\n"
     ]
    },
    {
     "name": "stdout",
     "output_type": "stream",
     "text": [
      "Temp is Fahrenheit is :  132.8\n"
     ]
    }
   ],
   "source": [
    "c = int(input(\"Enter temp. in celcius\"))\n",
    "f = (c* 1.8) + 32\n",
    "print(\"Temp is Fahrenheit is : \", f)"
   ]
  },
  {
   "cell_type": "markdown",
   "id": "45e35e05-1a75-4722-b357-1a0ef57575dd",
   "metadata": {},
   "source": [
    "TOPIC: String Based Questions"
   ]
  },
  {
   "cell_type": "raw",
   "id": "eb8e510d-70cc-4596-8158-6d9fddc12bdf",
   "metadata": {},
   "source": [
    "1. Write a Python program that takes a string as input and prints the length of\n",
    "the string."
   ]
  },
  {
   "cell_type": "code",
   "execution_count": 4,
   "id": "24565bce-ea83-484d-b25f-b05131613440",
   "metadata": {},
   "outputs": [
    {
     "name": "stdin",
     "output_type": "stream",
     "text": [
      "Enter a word :  Ravi\n"
     ]
    },
    {
     "name": "stdout",
     "output_type": "stream",
     "text": [
      "length of word entred is :  4\n"
     ]
    }
   ],
   "source": [
    "x = input(\"Enter a word : \")\n",
    "print(\"length of word entred is : \", len(x))"
   ]
  },
  {
   "cell_type": "raw",
   "id": "4b9c9e8d-cbfa-4929-b6e9-b7a6fdc73185",
   "metadata": {},
   "source": [
    "2. Create a program that takes a sentence from the user and counts the number\n",
    "of vowels (a, e, i, o, u) in the string."
   ]
  },
  {
   "cell_type": "code",
   "execution_count": 5,
   "id": "83dc739b-3681-4264-9f64-99fa87b8ec22",
   "metadata": {},
   "outputs": [
    {
     "name": "stdin",
     "output_type": "stream",
     "text": [
      "Enter a sentence :  Ravio\n"
     ]
    },
    {
     "name": "stdout",
     "output_type": "stream",
     "text": [
      "Count of in sent is 3\n"
     ]
    }
   ],
   "source": [
    "x=input(\"Enter a sentence : \")\n",
    "count=0\n",
    "for i in x.lower():\n",
    "    if i in 'aeiou':\n",
    "        count+=1\n",
    "    \n",
    "print('Count of in sent is',count)"
   ]
  },
  {
   "cell_type": "raw",
   "id": "e35d72fc-a583-4529-b623-af453bc810aa",
   "metadata": {},
   "source": [
    "3. Given a string, reverse the order of characters using string slicing and print\n",
    "the reversed string."
   ]
  },
  {
   "cell_type": "code",
   "execution_count": 6,
   "id": "a3c61e48-3ef8-4a92-9cdb-d69da0efb73f",
   "metadata": {},
   "outputs": [
    {
     "name": "stdin",
     "output_type": "stream",
     "text": [
      "Enter the string String\n"
     ]
    },
    {
     "name": "stdout",
     "output_type": "stream",
     "text": [
      "Word is : String  and reverse is:  gnirtS\n"
     ]
    }
   ],
   "source": [
    "x=input(\"Enter the string\")\n",
    "y=x[::-1]\n",
    "print(\"Word is :\", x ,\" and reverse is: \", y)"
   ]
  },
  {
   "cell_type": "raw",
   "id": "d6393313-1dc4-4d93-9855-9b32041ae727",
   "metadata": {},
   "source": [
    "4. Write a program that takes a string as input and checks if it is a palindrome\n",
    "(reads the same forwards and backwards)."
   ]
  },
  {
   "cell_type": "code",
   "execution_count": null,
   "id": "76338d7b-1996-48f0-87f4-3989a4bb3db2",
   "metadata": {},
   "outputs": [],
   "source": [
    "x=input(\"Enter word in lowercase to check palindrome\")\n",
    "y=x[::-1]\n",
    "if x==y:\n",
    "    print(\"word is palindrome\")\n",
    "else:\n",
    "    print(\"retry\")"
   ]
  },
  {
   "cell_type": "raw",
   "id": "a775de77-b982-4a27-a566-75eb9859561d",
   "metadata": {},
   "source": [
    "5. Create a program that takes a string as input and removes all the spaces from\n",
    "it. Print the modified string without spaces."
   ]
  },
  {
   "cell_type": "code",
   "execution_count": null,
   "id": "898f6faa-3f79-459b-a87f-e2750b16c6d8",
   "metadata": {},
   "outputs": [],
   "source": [
    "p=input(\"Enter string with space :\")\n",
    "q=''\n",
    "for i in p:\n",
    "    if i==\" \":\n",
    "        i=\"\"\n",
    "    else:\n",
    "        q+=i\n",
    "print(q)"
   ]
  },
  {
   "cell_type": "code",
   "execution_count": null,
   "id": "511b2b83-6792-4623-bff1-3d81f2272b78",
   "metadata": {},
   "outputs": [],
   "source": []
  }
 ],
 "metadata": {
  "kernelspec": {
   "display_name": "Python 3 (ipykernel)",
   "language": "python",
   "name": "python3"
  },
  "language_info": {
   "codemirror_mode": {
    "name": "ipython",
    "version": 3
   },
   "file_extension": ".py",
   "mimetype": "text/x-python",
   "name": "python",
   "nbconvert_exporter": "python",
   "pygments_lexer": "ipython3",
   "version": "3.10.8"
  }
 },
 "nbformat": 4,
 "nbformat_minor": 5
}
